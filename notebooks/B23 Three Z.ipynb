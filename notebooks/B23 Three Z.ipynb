version https://git-lfs.github.com/spec/v1
oid sha256:bac1b07b57ebfa172a504214a168d25994ca73db2a9063fb4fc26b90daa4906c
size 1130285
